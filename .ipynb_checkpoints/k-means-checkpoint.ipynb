{
 "cells": [
  {
   "cell_type": "markdown",
   "metadata": {},
   "source": [
    "## Implement in Spark (PySpark) the following k-means algorithm.\n",
    "1. Assign each point to a cluster at random\n",
    "2. Compute the cluster centroids as the averages of the points assigned to each cluster \n",
    "3. Repeat the following lines l times \n",
    "    - Assign each point to the cluster with the closest centroid\n",
    "    - Update the cluster centroids as the averages of the points assigned to each cluster"
   ]
  },
  {
   "cell_type": "code",
   "execution_count": 3,
   "metadata": {},
   "outputs": [
    {
     "ename": "ValueError",
     "evalue": "Cannot run multiple SparkContexts at once; existing SparkContext(app=pyspark-shell, master=local[*]) created by __init__ at <ipython-input-1-33ce3f59c0b1>:2 ",
     "output_type": "error",
     "traceback": [
      "\u001b[0;31m---------------------------------------------------------------------------\u001b[0m",
      "\u001b[0;31mValueError\u001b[0m                                Traceback (most recent call last)",
      "\u001b[0;32m<ipython-input-3-9f19f5ad052a>\u001b[0m in \u001b[0;36m<module>\u001b[0;34m\u001b[0m\n\u001b[1;32m      1\u001b[0m \u001b[0;31m# make sure the JAVA_HOME is right. (~\\.bach_profile)\u001b[0m\u001b[0;34m\u001b[0m\u001b[0;34m\u001b[0m\u001b[0;34m\u001b[0m\u001b[0m\n\u001b[1;32m      2\u001b[0m \u001b[0;32mfrom\u001b[0m \u001b[0mpyspark\u001b[0m \u001b[0;32mimport\u001b[0m \u001b[0mSparkContext\u001b[0m\u001b[0;34m\u001b[0m\u001b[0;34m\u001b[0m\u001b[0m\n\u001b[0;32m----> 3\u001b[0;31m \u001b[0msc\u001b[0m \u001b[0;34m=\u001b[0m \u001b[0mSparkContext\u001b[0m\u001b[0;34m(\u001b[0m\u001b[0;34m)\u001b[0m\u001b[0;34m\u001b[0m\u001b[0;34m\u001b[0m\u001b[0m\n\u001b[0m",
      "\u001b[0;32m~/anaconda3/lib/python3.7/site-packages/pyspark/context.py\u001b[0m in \u001b[0;36m__init__\u001b[0;34m(self, master, appName, sparkHome, pyFiles, environment, batchSize, serializer, conf, gateway, jsc, profiler_cls)\u001b[0m\n\u001b[1;32m    131\u001b[0m                     \" note this option will be removed in Spark 3.0\")\n\u001b[1;32m    132\u001b[0m \u001b[0;34m\u001b[0m\u001b[0m\n\u001b[0;32m--> 133\u001b[0;31m         \u001b[0mSparkContext\u001b[0m\u001b[0;34m.\u001b[0m\u001b[0m_ensure_initialized\u001b[0m\u001b[0;34m(\u001b[0m\u001b[0mself\u001b[0m\u001b[0;34m,\u001b[0m \u001b[0mgateway\u001b[0m\u001b[0;34m=\u001b[0m\u001b[0mgateway\u001b[0m\u001b[0;34m,\u001b[0m \u001b[0mconf\u001b[0m\u001b[0;34m=\u001b[0m\u001b[0mconf\u001b[0m\u001b[0;34m)\u001b[0m\u001b[0;34m\u001b[0m\u001b[0;34m\u001b[0m\u001b[0m\n\u001b[0m\u001b[1;32m    134\u001b[0m         \u001b[0;32mtry\u001b[0m\u001b[0;34m:\u001b[0m\u001b[0;34m\u001b[0m\u001b[0;34m\u001b[0m\u001b[0m\n\u001b[1;32m    135\u001b[0m             self._do_init(master, appName, sparkHome, pyFiles, environment, batchSize, serializer,\n",
      "\u001b[0;32m~/anaconda3/lib/python3.7/site-packages/pyspark/context.py\u001b[0m in \u001b[0;36m_ensure_initialized\u001b[0;34m(cls, instance, gateway, conf)\u001b[0m\n\u001b[1;32m    330\u001b[0m                         \u001b[0;34m\" created by %s at %s:%s \"\u001b[0m\u001b[0;34m\u001b[0m\u001b[0;34m\u001b[0m\u001b[0m\n\u001b[1;32m    331\u001b[0m                         % (currentAppName, currentMaster,\n\u001b[0;32m--> 332\u001b[0;31m                             callsite.function, callsite.file, callsite.linenum))\n\u001b[0m\u001b[1;32m    333\u001b[0m                 \u001b[0;32melse\u001b[0m\u001b[0;34m:\u001b[0m\u001b[0;34m\u001b[0m\u001b[0;34m\u001b[0m\u001b[0m\n\u001b[1;32m    334\u001b[0m                     \u001b[0mSparkContext\u001b[0m\u001b[0;34m.\u001b[0m\u001b[0m_active_spark_context\u001b[0m \u001b[0;34m=\u001b[0m \u001b[0minstance\u001b[0m\u001b[0;34m\u001b[0m\u001b[0;34m\u001b[0m\u001b[0m\n",
      "\u001b[0;31mValueError\u001b[0m: Cannot run multiple SparkContexts at once; existing SparkContext(app=pyspark-shell, master=local[*]) created by __init__ at <ipython-input-1-33ce3f59c0b1>:2 "
     ]
    }
   ],
   "source": [
    "# make sure the JAVA_HOME is right. (~\\.bach_profile)\n",
    "from pyspark import SparkContext\n",
    "sc = SparkContext()"
   ]
  },
  {
   "cell_type": "code",
   "execution_count": 10,
   "metadata": {},
   "outputs": [
    {
     "name": "stdout",
     "output_type": "stream",
     "text": [
      "[[33.3, -17.5], [40.4, -20.5], [28.0, -23.9], [29.5, -19.0], [32.8, -18.84]]\n"
     ]
    }
   ],
   "source": [
    "import random \n",
    "k = 2 # number of clusters\n",
    "\n",
    "filename = \"kmean.csv\"\n",
    "data = sc.textFile(filename)\n",
    "points = data.map(lambda x: x.split(\",\"))\n",
    "points = points.map(lambda x: ([float(x[0]), float(x[1])])) # change the data type from str to float\n",
    "print (points.collect())"
   ]
  },
  {
   "cell_type": "code",
   "execution_count": 11,
   "metadata": {},
   "outputs": [
    {
     "name": "stdout",
     "output_type": "stream",
     "text": [
      "[(2, [33.3, -17.5]), (1, [40.4, -20.5]), (1, [28.0, -23.9]), (2, [29.5, -19.0]), (1, [32.8, -18.84])]\n"
     ]
    }
   ],
   "source": [
    "# 1. Assign each point to a cluster at random\n",
    "\n",
    "clusters = points.map(lambda x: (random.randint(1, 2), x)) \n",
    "print (clusters.collect())"
   ]
  },
  {
   "cell_type": "code",
   "execution_count": 12,
   "metadata": {},
   "outputs": [],
   "source": [
    "# Euclidean distance between point A & B\n",
    "import math\n",
    "def distance(A, B):\n",
    "    dist = math.sqrt(sum([(a - b) ** 2 for a, b in zip(A, B)]))\n",
    "    return (dist)"
   ]
  },
  {
   "cell_type": "code",
   "execution_count": 13,
   "metadata": {},
   "outputs": [
    {
     "name": "stdout",
     "output_type": "stream",
     "text": [
      "[(2, ([33.3, -17.5], 1)), (1, ([40.4, -20.5], 1)), (1, ([28.0, -23.9], 1)), (1, ([29.5, -19.0], 1)), (2, ([32.8, -18.84], 1))]\n"
     ]
    }
   ],
   "source": [
    "# 2. Compute the cluster centroids as the averages of the points assigned to each cluster\n",
    "\n",
    "clusters = clusters.mapValues(lambda x: (x, 1)) # add the count number 1\n",
    "print (clusters.collect())\n",
    "\n",
    "# find the closest centroid for a point\n",
    "def closest(point, centroids):\n",
    "    best_cluster = None\n",
    "    best_dist = float(\"inf\")\n",
    "    for c in centroids:\n",
    "        dist = distance(c[1], point)\n",
    "        if dist < best_dist:\n",
    "            best_dist = dist\n",
    "            best_cluster = c[0]     \n",
    "    return best_cluster"
   ]
  },
  {
   "cell_type": "code",
   "execution_count": 6,
   "metadata": {},
   "outputs": [
    {
     "name": "stdout",
     "output_type": "stream",
     "text": [
      "1 time...\n",
      "[(2, ([33.3, -17.5], 1)), (1, ([40.4, -20.5], 1)), (1, ([28.0, -23.9], 1)), (1, ([29.5, -19.0], 1)), (1, ([32.8, -18.84], 1))]\n",
      "[(2, [29.5, -19.0]), (1, [33.625, -20.185])]\n",
      "2 time...\n",
      "[(1, ([33.3, -17.5], 1)), (1, ([40.4, -20.5], 1)), (2, ([28.0, -23.9], 1)), (2, ([29.5, -19.0], 1)), (1, ([32.8, -18.84], 1))]\n",
      "[(2, [28.75, -21.45]), (1, [35.49999999999999, -18.94666666666667])]\n",
      "3 time...\n",
      "[(1, ([33.3, -17.5], 1)), (1, ([40.4, -20.5], 1)), (2, ([28.0, -23.9], 1)), (2, ([29.5, -19.0], 1)), (1, ([32.8, -18.84], 1))]\n",
      "[(2, [28.75, -21.45]), (1, [35.49999999999999, -18.94666666666667])]\n"
     ]
    }
   ],
   "source": [
    "# 3. Repeat the following lines l times\n",
    "#     - Assign each point to the cluster with the closest centroid\n",
    "#     - Update the cluster centroids as the averages of the points assigned to each cluster\n",
    "\n",
    "l = 3\n",
    "for i in range(l):\n",
    "    print (str(i+1) + \" time...\")\n",
    "    print (clusters.collect())\n",
    "    \n",
    "    # 2. Compute the cluster centroids as the averages of the points assigned to each cluster\n",
    "    clusters = clusters.reduceByKey(lambda a,b: ([a[0][0]+b[0][0], a[0][1]+b[0][1]], a[1]+b[1])) # add all points in the same clusters\n",
    "    centroids = clusters.mapValues(lambda x: [x[0][0]/x[1], x[0][1]/x[1]]).collect() # compute the average\n",
    "    print (centroids)\n",
    "    clusters =  points.map(lambda x: (closest(x, centroids), (x, 1)))"
   ]
  }
 ],
 "metadata": {
  "kernelspec": {
   "display_name": "Python 3",
   "language": "python",
   "name": "python3"
  },
  "language_info": {
   "codemirror_mode": {
    "name": "ipython",
    "version": 3
   },
   "file_extension": ".py",
   "mimetype": "text/x-python",
   "name": "python",
   "nbconvert_exporter": "python",
   "pygments_lexer": "ipython3",
   "version": "3.7.3"
  }
 },
 "nbformat": 4,
 "nbformat_minor": 2
}
