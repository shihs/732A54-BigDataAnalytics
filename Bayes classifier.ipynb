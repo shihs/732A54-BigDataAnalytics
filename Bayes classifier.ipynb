{
 "cells": [
  {
   "cell_type": "markdown",
   "metadata": {},
   "source": [
    "# Exam June 2, 2018 \n",
    "## Question12"
   ]
  },
  {
   "cell_type": "code",
   "execution_count": 1,
   "metadata": {},
   "outputs": [],
   "source": [
    "from pyspark import SparkContext\n",
    "from pyspark.sql import SQLContext\n",
    "sc = SparkContext()\n",
    "sqlContext = SQLContext(sc)"
   ]
  },
  {
   "cell_type": "code",
   "execution_count": 2,
   "metadata": {},
   "outputs": [
    {
     "name": "stdout",
     "output_type": "stream",
     "text": [
      "[Row(a='0', b='1', c='0'), Row(a='1', b='0', c='0'), Row(a='1', b='0', c='1'), Row(a='1', b='1', c='1'), Row(a='0', b='1', c='0'), Row(a='0', b='0', c='1'), Row(a='1', b='1', c='1'), Row(a='0', b='0', c='0'), Row(a='0', b='1', c='0'), Row(a='0', b='0', c='1'), Row(a='0', b='1', c='1'), Row(a='0', b='0', c='0'), Row(a='1', b='1', c='1')]\n"
     ]
    }
   ],
   "source": [
    "filename = \"data.txt\"\n",
    "data = sc.textFile(filename)\n",
    "obs = data.map(lambda x: x.split(\";\"))\n",
    "# print (obs.collect())\n",
    "\n",
    "schema = [\"a\", \"b\", \"c\"]\n",
    "obs = sqlContext.createDataFrame(obs, schema = schema)\n",
    "print (obs.collect())"
   ]
  },
  {
   "cell_type": "code",
   "execution_count": 18,
   "metadata": {},
   "outputs": [
    {
     "name": "stdout",
     "output_type": "stream",
     "text": [
      "0.26315789473684215\n"
     ]
    }
   ],
   "source": [
    "N_c = obs.filter(obs.c == 0).count()\n",
    "N_ac = obs.filter(obs.a == 0).filter(obs.c == 0).count()\n",
    "N_bc = obs.filter(obs.b == 0).filter(obs.c ==0).count()\n",
    "\n",
    "N_c_prime = obs.filter(obs.c == 1).count()\n",
    "N_ac_prime = obs.filter(obs.a == 0).filter(obs.c == 1).count()\n",
    "N_bc_prime = obs.filter(obs.b == 0).filter(obs.c == 1).count()\n",
    "\n",
    "N = data.count()\n",
    "\n",
    "#p(c)\n",
    "p_c = N_c/N\n",
    "#p(a|c)\n",
    "p_ac = N_ac/N_c\n",
    "#p(b|c)\n",
    "p_bc = N_bc/N_c\n",
    "\n",
    "#p(c')\n",
    "p_c_prime = N_c_prime/N\n",
    "#p(a|c')\n",
    "p_ac_prime = N_ac_prime/N_ac_prime\n",
    "#p(b|c')\n",
    "p_bc_prime = N_bc_prime/N_bc_prime\n",
    "\n",
    "\n",
    "# p(c|a, b)\n",
    "p_ans = p_ac*p_bc*p_c/(p_ac*p_bc*p_c + p_ac_prime*p_bc_prime*p_c_prime)\n",
    "print (p_ans)\n"
   ]
  }
 ],
 "metadata": {
  "kernelspec": {
   "display_name": "Python 3",
   "language": "python",
   "name": "python3"
  },
  "language_info": {
   "codemirror_mode": {
    "name": "ipython",
    "version": 3
   },
   "file_extension": ".py",
   "mimetype": "text/x-python",
   "name": "python",
   "nbconvert_exporter": "python",
   "pygments_lexer": "ipython3",
   "version": "3.7.3"
  }
 },
 "nbformat": 4,
 "nbformat_minor": 2
}
