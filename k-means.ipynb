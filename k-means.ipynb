{
 "cells": [
  {
   "cell_type": "markdown",
   "metadata": {},
   "source": [
    "## Implement in Spark (PySpark) the following k-means algorithm.\n",
    "1. Assign each point to a cluster at random\n",
    "2. Compute the cluster centroids as the averages of the points assigned to each cluster \n",
    "3. Repeat the following lines l times \n",
    "    - Assign each point to the cluster with the closest centroid\n",
    "    - Update the cluster centroids as the averages of the points assigned to each cluster"
   ]
  },
  {
   "cell_type": "code",
   "execution_count": 2,
   "metadata": {},
   "outputs": [],
   "source": [
    "from pyspark import SparkContext\n",
    "sc = SparkContext()"
   ]
  },
  {
   "cell_type": "code",
   "execution_count": 24,
   "metadata": {},
   "outputs": [],
   "source": [
    "# filename = \"kmean 2.csv\"\n",
    "# data = sc.textFile(filename)\n",
    "# d = data.map(lambda x: x.split(\",\"))\n",
    "# points = d.map(lambda x: ([float(x[1]), float(x[2])]))\n",
    "# print(points.collect())\n",
    "# pointsL = d.map(lambda x: (x[0], [float(x[1]), float(x[2])]))\n",
    "# print(pointsL.collect())\n",
    "# pointsL = pointsL.mapValues(lambda x: (x, 1))\n",
    "# print (pointsL.collect())"
   ]
  },
  {
   "cell_type": "code",
   "execution_count": 27,
   "metadata": {},
   "outputs": [
    {
     "name": "stdout",
     "output_type": "stream",
     "text": [
      "[[33.3, -17.5], [40.4, -20.5], [28.0, -23.9], [29.5, -19.0], [32.8, -18.84]]\n"
     ]
    }
   ],
   "source": [
    "import random \n",
    "k = 2 # number of clusters\n",
    "\n",
    "filename = \"kmean.csv\"\n",
    "data = sc.textFile(filename)\n",
    "points = data.map(lambda x: x.split(\",\"))\n",
    "points = points.map(lambda x: ([float(x[0]), float(x[1])])) # change the data type from str to float\n",
    "print (points.collect())"
   ]
  },
  {
   "cell_type": "code",
   "execution_count": 28,
   "metadata": {},
   "outputs": [
    {
     "name": "stdout",
     "output_type": "stream",
     "text": [
      "PythonRDD[174] at RDD at PythonRDD.scala:53\n",
      "[(2, ([33.3, -17.5], 1)), (2, ([40.4, -20.5], 1)), (2, ([28.0, -23.9], 1)), (1, ([29.5, -19.0], 1)), (2, ([32.8, -18.84], 1))]\n"
     ]
    }
   ],
   "source": [
    "clusters = points.map(lambda x: (random.randint(1, 2), x)) # Assign each point to a cluster at random\n",
    "print (clusters)\n",
    "clusters = clusters.mapValues(lambda x: (x, 1)) # add the count number 1\n",
    "print (clusters.collect())"
   ]
  },
  {
   "cell_type": "code",
   "execution_count": 19,
   "metadata": {},
   "outputs": [],
   "source": [
    "# Euclidean distance between point A & B\n",
    "import math\n",
    "def distance(A, B):\n",
    "    dist = math.sqrt(sum([(a - b) ** 2 for a, b in zip(A, B)]))\n",
    "    return (dist)"
   ]
  },
  {
   "cell_type": "code",
   "execution_count": 22,
   "metadata": {},
   "outputs": [],
   "source": [
    "# find the closest centroid for a point\n",
    "def closest(point, centroids):\n",
    "    best_cluster = None\n",
    "    best_dist = float(\"inf\")\n",
    "    for c in centroids:\n",
    "        dist = distance(c[1], point)\n",
    "        if dist < best_dist:\n",
    "            best_dist = dist\n",
    "            best_cluster = c[0]     \n",
    "    return best_cluster"
   ]
  },
  {
   "cell_type": "code",
   "execution_count": 29,
   "metadata": {},
   "outputs": [
    {
     "name": "stdout",
     "output_type": "stream",
     "text": [
      "1 time...\n",
      "[('2', ([33.3, -17.5], 1)), ('1', ([40.4, -20.5], 1)), ('2', ([28.0, -23.9], 1)), ('2', ([29.5, -19.0], 1)), ('2', ([32.8, -18.84], 1))]\n",
      "2 time...\n",
      "[('2', ([33.3, -17.5], 1)), ('1', ([40.4, -20.5], 1)), ('2', ([28.0, -23.9], 1)), ('2', ([29.5, -19.0], 1)), ('2', ([32.8, -18.84], 1))]\n",
      "3 time...\n",
      "[('2', ([33.3, -17.5], 1)), ('1', ([40.4, -20.5], 1)), ('2', ([28.0, -23.9], 1)), ('2', ([29.5, -19.0], 1)), ('2', ([32.8, -18.84], 1))]\n",
      "4 time...\n",
      "[('2', ([33.3, -17.5], 1)), ('1', ([40.4, -20.5], 1)), ('2', ([28.0, -23.9], 1)), ('2', ([29.5, -19.0], 1)), ('2', ([32.8, -18.84], 1))]\n",
      "5 time...\n",
      "[('2', ([33.3, -17.5], 1)), ('1', ([40.4, -20.5], 1)), ('2', ([28.0, -23.9], 1)), ('2', ([29.5, -19.0], 1)), ('2', ([32.8, -18.84], 1))]\n",
      "6 time...\n",
      "[('2', ([33.3, -17.5], 1)), ('1', ([40.4, -20.5], 1)), ('2', ([28.0, -23.9], 1)), ('2', ([29.5, -19.0], 1)), ('2', ([32.8, -18.84], 1))]\n",
      "7 time...\n",
      "[('2', ([33.3, -17.5], 1)), ('1', ([40.4, -20.5], 1)), ('2', ([28.0, -23.9], 1)), ('2', ([29.5, -19.0], 1)), ('2', ([32.8, -18.84], 1))]\n",
      "8 time...\n",
      "[('2', ([33.3, -17.5], 1)), ('1', ([40.4, -20.5], 1)), ('2', ([28.0, -23.9], 1)), ('2', ([29.5, -19.0], 1)), ('2', ([32.8, -18.84], 1))]\n",
      "9 time...\n",
      "[('2', ([33.3, -17.5], 1)), ('1', ([40.4, -20.5], 1)), ('2', ([28.0, -23.9], 1)), ('2', ([29.5, -19.0], 1)), ('2', ([32.8, -18.84], 1))]\n",
      "10 time...\n",
      "[('2', ([33.3, -17.5], 1)), ('1', ([40.4, -20.5], 1)), ('2', ([28.0, -23.9], 1)), ('2', ([29.5, -19.0], 1)), ('2', ([32.8, -18.84], 1))]\n"
     ]
    }
   ],
   "source": [
    "# Repeat the following lines l times\n",
    "# Assign each point to the cluster with the closest centroid\n",
    "# Update the cluster centroids as the averages of the points assigned to each cluster\n",
    "\n",
    "l = 10\n",
    "for i in range(l):\n",
    "    print (str(i+1) + \" time...\")\n",
    "    print (pointsL.collect())\n",
    "    clusters = pointsL.reduceByKey(lambda a,b: ([a[0][0]+b[0][0], a[0][1]+b[0][1]], a[1]+b[1]))\n",
    "    # Compute the cluster centroids as the averages of the points assigned to each cluster\n",
    "    centroids = clusters.mapValues(lambda x: [x[0][0]/x[1], x[0][1]/x[1]]).collect() \n",
    "    pointsL =  points.map(lambda x: (closest(x, centroids), (x, 1)))\n"
   ]
  }
 ],
 "metadata": {
  "kernelspec": {
   "display_name": "Python 3",
   "language": "python",
   "name": "python3"
  },
  "language_info": {
   "codemirror_mode": {
    "name": "ipython",
    "version": 3
   },
   "file_extension": ".py",
   "mimetype": "text/x-python",
   "name": "python",
   "nbconvert_exporter": "python",
   "pygments_lexer": "ipython3",
   "version": "3.7.3"
  }
 },
 "nbformat": 4,
 "nbformat_minor": 2
}
